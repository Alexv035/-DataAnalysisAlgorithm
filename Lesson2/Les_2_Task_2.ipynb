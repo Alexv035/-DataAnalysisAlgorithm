{
 "cells": [
  {
   "cell_type": "code",
   "execution_count": 1,
   "metadata": {},
   "outputs": [],
   "source": [
    "import numpy as np\n",
    "from sklearn import datasets\n",
    "import matplotlib.pyplot as plt\n",
    "\n",
    "%matplotlib inline"
   ]
  },
  {
   "cell_type": "code",
   "execution_count": 2,
   "metadata": {},
   "outputs": [],
   "source": [
    "# сгенерируем набор данных\n",
    "data, target, coef = datasets.make_regression(n_samples=1000, n_features = 2, n_informative = 2, n_targets = 1, \n",
    "                                              noise = 5, coef = True, random_state = 2)"
   ]
  },
  {
   "cell_type": "code",
   "execution_count": 3,
   "metadata": {},
   "outputs": [
    {
     "data": {
      "text/plain": [
       "array([62.6735955, 68.0472182])"
      ]
     },
     "execution_count": 3,
     "metadata": {},
     "output_type": "execute_result"
    }
   ],
   "source": [
    "X = data.T.copy()\n",
    "y = target.copy()\n",
    "coef"
   ]
  },
  {
   "cell_type": "code",
   "execution_count": 4,
   "metadata": {},
   "outputs": [],
   "source": [
    "# реализуем функцию, определяющую среднеквадратичную ошибку\n",
    "def calc_mse(y, y_pred):\n",
    "    err = np.mean((y - y_pred)**2)\n",
    "    return err"
   ]
  },
  {
   "cell_type": "code",
   "execution_count": 5,
   "metadata": {},
   "outputs": [],
   "source": [
    "def eval_model(X, y, iterations, alpha=1e-4):\n",
    "    r_eval = []\n",
    "    a = []\n",
    "    W = np.random.randn(X.shape[0])\n",
    "    n = X.shape[1]\n",
    "    for i in range(1, iterations+1):\n",
    "        y_pred = np.dot(W, X)\n",
    "        err = calc_mse(y, y_pred)\n",
    "        W -= (alpha * (1/n * 2 * np.dot((y_pred - y), X.T)))\n",
    "        if i % (iterations / 10) == 0:\n",
    "            print(i, W, err)\n",
    "        r_eval.append([i, err])\n",
    "    r_eval  = np.asarray(r_eval)        \n",
    "    return W, r_eval"
   ]
  },
  {
   "cell_type": "code",
   "execution_count": 6,
   "metadata": {},
   "outputs": [
    {
     "name": "stdout",
     "output_type": "stream",
     "text": [
      "100 [53.4130283  58.48118215] 200.6550957638899\n",
      "200 [61.01943017 66.86800539] 30.104339574270313\n",
      "300 [62.13608435 68.07620103] 26.503591646200096\n",
      "400 [62.29985058 68.25040066] 26.427546006207947\n",
      "500 [62.32384693 68.2755367 ] 26.425939537855726\n",
      "600 [62.32736031 68.27916629] 26.425905593716312\n",
      "700 [62.32787435 68.27969074] 26.42590487636044\n",
      "800 [62.32794952 68.27976656] 26.425904861198063\n",
      "900 [62.3279605  68.27977753] 26.42590486087754\n",
      "1000 [62.32796211 68.27977912] 26.42590486087076\n"
     ]
    },
    {
     "data": {
      "text/plain": [
       "array([62.32796211, 68.27977912])"
      ]
     },
     "execution_count": 6,
     "metadata": {},
     "output_type": "execute_result"
    }
   ],
   "source": [
    "r_eval = np.array([])\n",
    "W_eval, r_eval = eval_model(X, y, iterations=1000, alpha=1e-2)\n",
    "W_eval"
   ]
  },
  {
   "cell_type": "code",
   "execution_count": 7,
   "metadata": {},
   "outputs": [],
   "source": [
    "def eval_sgd_model(X, y, iterations, qty_in_batch=1, alpha=1e-4):\n",
    "    r_sgb = []\n",
    "    W = np.random.randn(X.shape[0])\n",
    "    n = X.shape[1]\n",
    "    n_batch = n // qty_in_batch\n",
    "    if n % qty_in_batch != 0:\n",
    "        n_batch += 1\n",
    "    for i in range(1, iterations+1):\n",
    "        for b in range(n_batch):\n",
    "            start_ = qty_in_batch*b\n",
    "            end_ = qty_in_batch*(b+1)\n",
    "\n",
    "            # print(b, n_batch, start_, end_)\n",
    "\n",
    "            X_tmp = X[:, start_ : end_]\n",
    "            y_tmp = y[start_ : end_]\n",
    "            y_pred_tmp = np.dot(W, X_tmp)\n",
    "            err = calc_mse(y_tmp, y_pred_tmp)\n",
    "            W -= (alpha * (1/n * 2 * np.dot((y_pred_tmp - y_tmp), X_tmp.T)))\n",
    "\n",
    "        if i % (iterations / 10) == 0:\n",
    "            print(i, W, err)\n",
    "        r_sgb.append([i, err])\n",
    "    r_sgb  = np.asarray(r_sgb)\n",
    "    return W, r_sgb"
   ]
  },
  {
   "cell_type": "code",
   "execution_count": 10,
   "metadata": {},
   "outputs": [
    {
     "name": "stdout",
     "output_type": "stream",
     "text": [
      "100 [53.1734     58.46646873] 66.54336655393843\n",
      "200 [60.96095348 66.83749786] 24.958858479117033\n",
      "300 [62.12348759 68.06718073] 27.400945031395025\n",
      "400 [62.29689015 68.24794985] 27.94930874871403\n",
      "500 [62.3227359  68.27454154] 28.034304535873396\n",
      "600 [62.32658573 68.27845566] 28.04693265551564\n",
      "700 [62.32715884 68.27903212] 28.048798024963993\n",
      "800 [62.32724411 68.27911706] 28.049073411777194\n",
      "900 [62.3272568  68.27912958] 28.04911407466735\n",
      "1000 [62.32725868 68.27913143] 28.049120080430402\n"
     ]
    },
    {
     "data": {
      "text/plain": [
       "array([62.32725868, 68.27913143])"
      ]
     },
     "execution_count": 10,
     "metadata": {},
     "output_type": "execute_result"
    }
   ],
   "source": [
    "r_sgb = np.array([])\n",
    "w_sgb, r_sgb = eval_sgd_model(X, y, iterations=1000, qty_in_batch=10, alpha=1e-2)\n",
    "w_sgb"
   ]
  }
 ],
 "metadata": {
  "kernelspec": {
   "display_name": "Python 3",
   "language": "python",
   "name": "python3"
  },
  "language_info": {
   "codemirror_mode": {
    "name": "ipython",
    "version": 3
   },
   "file_extension": ".py",
   "mimetype": "text/x-python",
   "name": "python",
   "nbconvert_exporter": "python",
   "pygments_lexer": "ipython3",
   "version": "3.8.3"
  }
 },
 "nbformat": 4,
 "nbformat_minor": 4
}
